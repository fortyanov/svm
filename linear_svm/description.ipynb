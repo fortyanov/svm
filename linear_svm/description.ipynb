{
 "cells": [
  {
   "cell_type": "markdown",
   "source": [
    "Подгружаем либы"
   ],
   "metadata": {
    "collapsed": false
   },
   "id": "b1d3fef00b48ea4b"
  },
  {
   "cell_type": "code",
   "outputs": [],
   "source": [
    "from linear_svm.model import LinearSVM\n",
    "from sklearn.metrics import accuracy_score, r2_score\n",
    "from utils.visualisation import decision_boundary_plot\n",
    "from sklearn.datasets import load_iris\n",
    "from sklearn.model_selection import train_test_split"
   ],
   "metadata": {
    "collapsed": false,
    "ExecuteTime": {
     "end_time": "2024-09-20T19:40:55.694447Z",
     "start_time": "2024-09-20T19:40:55.691055Z"
    }
   },
   "id": "e217784d184c3ea8",
   "execution_count": 9
  },
  {
   "cell_type": "markdown",
   "source": [
    "Подгружаем датасет с ирисами Фишера"
   ],
   "metadata": {
    "collapsed": false
   },
   "id": "c33b8bfb9efec66b"
  },
  {
   "cell_type": "code",
   "outputs": [
    {
     "name": "stdout",
     "output_type": "stream",
     "text": [
      "     sepal length (cm)  sepal width (cm)  petal length (cm)  petal width (cm)\n",
      "0                  5.1               3.5                1.4               0.2\n",
      "1                  4.9               3.0                1.4               0.2\n",
      "2                  4.7               3.2                1.3               0.2\n",
      "3                  4.6               3.1                1.5               0.2\n",
      "4                  5.0               3.6                1.4               0.2\n",
      "..                 ...               ...                ...               ...\n",
      "145                6.7               3.0                5.2               2.3\n",
      "146                6.3               2.5                5.0               1.9\n",
      "147                6.5               3.0                5.2               2.0\n",
      "148                6.2               3.4                5.4               2.3\n",
      "149                5.9               3.0                5.1               1.8\n",
      "\n",
      "[150 rows x 4 columns]\n",
      "0      0\n",
      "1      0\n",
      "2      0\n",
      "3      0\n",
      "4      0\n",
      "      ..\n",
      "145    2\n",
      "146    2\n",
      "147    2\n",
      "148    2\n",
      "149    2\n",
      "Name: target, Length: 150, dtype: int64\n"
     ]
    }
   ],
   "source": [
    "X1, y1 = load_iris(return_X_y=True, as_frame=True)\n",
    "X1_train, X1_test, y1_train, y1_test = train_test_split(X1.values, y1.values, random_state=0)\n",
    "print(X1, y1, sep='\\n')"
   ],
   "metadata": {
    "collapsed": false,
    "ExecuteTime": {
     "end_time": "2024-09-20T19:01:53.644970Z",
     "start_time": "2024-09-20T19:01:53.629891Z"
    }
   },
   "id": "9d7b7d6d3cfe5b82",
   "execution_count": 4
  },
  {
   "cell_type": "markdown",
   "source": [
    "Работа с моделью:\n",
    "* инициализация\n",
    "* обучение \n",
    "* предсказание"
   ],
   "metadata": {
    "collapsed": false
   },
   "id": "f95f165a1446e597"
  },
  {
   "cell_type": "code",
   "outputs": [
    {
     "name": "stdout",
     "output_type": "stream",
     "text": [
      "LinearSVM accuracy: 0.9210526315789473\n",
      "[2 1 0 2 0 2 0 1 1 1 2 1 1 1 1 0 1 1 0 0 2 2 0 0 2 0 0 1 1 0 2 2 0 2 2 1 0\n",
      " 2]\n"
     ]
    }
   ],
   "source": [
    "linear_svm = LinearSVM(random_state=0)\n",
    "linear_svm.fit(X1_train, y1_train)\n",
    "linear_svm_pred_res = linear_svm.predict(X1_test)"
   ],
   "metadata": {
    "collapsed": false,
    "ExecuteTime": {
     "end_time": "2024-09-20T19:02:03.434293Z",
     "start_time": "2024-09-20T19:02:02.358274Z"
    }
   },
   "id": "f25c36cd7a65613a",
   "execution_count": 5
  },
  {
   "cell_type": "markdown",
   "source": [
    "Отображение результатов\n",
    "* ожидаемые результаты\n",
    "* результаты предсказания\n",
    "* меткрика точность\n",
    "* метрика R2\n",
    "* отображение"
   ],
   "metadata": {
    "collapsed": false
   },
   "id": "f636f0ccbef72d75"
  },
  {
   "cell_type": "code",
   "outputs": [
    {
     "name": "stdout",
     "output_type": "stream",
     "text": [
      "expected res:\t[2 1 0 2 0 2 0 1 1 1 2 1 1 1 1 0 1 1 0 0 2 1 0 0 2 0 0 1 1 0 2 1 0 2 2 1 0\n",
      " 1]\n",
      "LinearSVM res:\t[2 1 0 2 0 2 0 1 1 1 2 1 1 1 1 0 1 1 0 0 2 2 0 0 2 0 0 1 1 0 2 2 0 2 2 1 0\n",
      " 2]\n",
      "LinearSVM accuracy:\t0.9210526315789473\n",
      "LinearSVM r2:\t\t0.8609756097560975\n"
     ]
    },
    {
     "data": {
      "text/plain": "<Figure size 432x288 with 1 Axes>",
      "image/png": "[encoded data removed]"
     },
     "metadata": {
      "needs_background": "light"
     },
     "output_type": "display_data"
    }
   ],
   "source": [
    "print(f'expected res:\\t{y1_test}')\n",
    "print(f'LinearSVM res:\\t{linear_svm_pred_res}')\n",
    "\n",
    "linear_svm_accuracy = accuracy_score(y1_test, linear_svm_pred_res)\n",
    "print(f'LinearSVM accuracy:\\t{linear_svm_accuracy}')\n",
    "\n",
    "linear_svm_r2 = r2_score(y1_test, linear_svm_pred_res)\n",
    "print(f'LinearSVM r2:\\t\\t{linear_svm_r2}')\n",
    "\n",
    "decision_boundary_plot(X1, y1, X1_train, y1_train, linear_svm, feature_indexes=[2, 3], title='LinearSVM surface')"
   ],
   "metadata": {
    "collapsed": false,
    "ExecuteTime": {
     "end_time": "2024-09-20T19:46:31.336659Z",
     "start_time": "2024-09-20T19:46:29.736962Z"
    }
   },
   "id": "7a393d759bc893d5",
   "execution_count": 15
  },
  {
   "cell_type": "code",
   "outputs": [],
   "source": [],
   "metadata": {
    "collapsed": false
   },
   "id": "868f4020731b5c44"
  }
 ],
 "metadata": {
  "kernelspec": {
   "display_name": "Python 3",
   "language": "python",
   "name": "python3"
  },
  "language_info": {
   "codemirror_mode": {
    "name": "ipython",
    "version": 2
   },
   "file_extension": ".py",
   "mimetype": "text/x-python",
   "name": "python",
   "nbconvert_exporter": "python",
   "pygments_lexer": "ipython2",
   "version": "2.7.6"
  }
 },
 "nbformat": 4,
 "nbformat_minor": 5
}
